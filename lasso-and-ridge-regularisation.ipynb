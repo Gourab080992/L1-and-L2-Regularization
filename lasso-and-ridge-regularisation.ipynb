{
 "cells": [
  {
   "cell_type": "markdown",
   "metadata": {
    "papermill": {
     "duration": 0.03219,
     "end_time": "2022-02-27T17:38:10.623449",
     "exception": false,
     "start_time": "2022-02-27T17:38:10.591259",
     "status": "completed"
    },
    "tags": []
   },
   "source": []
  },
  {
   "cell_type": "markdown",
   "metadata": {
    "papermill": {
     "duration": 0.030737,
     "end_time": "2022-02-27T17:38:10.685280",
     "exception": false,
     "start_time": "2022-02-27T17:38:10.654543",
     "status": "completed"
    },
    "tags": []
   },
   "source": [
    "# Importing Neccessary Packages"
   ]
  },
  {
   "cell_type": "markdown",
   "metadata": {
    "papermill": {
     "duration": 0.03257,
     "end_time": "2022-02-27T17:38:10.750079",
     "exception": false,
     "start_time": "2022-02-27T17:38:10.717509",
     "status": "completed"
    },
    "tags": []
   },
   "source": []
  },
  {
   "cell_type": "code",
   "execution_count": 1,
   "metadata": {
    "execution": {
     "iopub.execute_input": "2022-02-27T17:38:10.857652Z",
     "iopub.status.busy": "2022-02-27T17:38:10.856811Z",
     "iopub.status.idle": "2022-02-27T17:38:11.741141Z",
     "shell.execute_reply": "2022-02-27T17:38:11.740587Z",
     "shell.execute_reply.started": "2022-02-27T17:22:25.01539Z"
    },
    "papermill": {
     "duration": 0.924627,
     "end_time": "2022-02-27T17:38:11.741263",
     "exception": false,
     "start_time": "2022-02-27T17:38:10.816636",
     "status": "completed"
    },
    "tags": []
   },
   "outputs": [],
   "source": [
    "%matplotlib inline\n",
    "\n",
    "\n",
    "# Numerical libraries\n",
    "import numpy as np   \n",
    "\n",
    "# Import Linear Regression machine learning library\n",
    "from sklearn.linear_model import LinearRegression\n",
    "from sklearn.linear_model import Ridge\n",
    "from sklearn.linear_model import Lasso\n",
    "\n",
    "from sklearn.metrics import r2_score\n",
    "\n",
    "# to handle data in form of rows and columns \n",
    "import pandas as pd    \n",
    "\n",
    "# importing ploting libraries\n",
    "import matplotlib.pyplot as plt   \n",
    "\n",
    "#importing seaborn for statistical plots\n",
    "import seaborn as sns"
   ]
  },
  {
   "cell_type": "code",
   "execution_count": 2,
   "metadata": {
    "execution": {
     "iopub.execute_input": "2022-02-27T17:38:11.814892Z",
     "iopub.status.busy": "2022-02-27T17:38:11.814313Z",
     "iopub.status.idle": "2022-02-27T17:38:11.827436Z",
     "shell.execute_reply": "2022-02-27T17:38:11.826647Z",
     "shell.execute_reply.started": "2022-02-27T08:29:41.4908Z"
    },
    "papermill": {
     "duration": 0.055136,
     "end_time": "2022-02-27T17:38:11.827562",
     "exception": false,
     "start_time": "2022-02-27T17:38:11.772426",
     "status": "completed"
    },
    "tags": []
   },
   "outputs": [],
   "source": [
    "mpg_df = pd.read_csv(\"../input/autompg-dataset/auto-mpg.csv\")"
   ]
  },
  {
   "cell_type": "code",
   "execution_count": 3,
   "metadata": {
    "execution": {
     "iopub.execute_input": "2022-02-27T17:38:11.905292Z",
     "iopub.status.busy": "2022-02-27T17:38:11.904593Z",
     "iopub.status.idle": "2022-02-27T17:38:11.914094Z",
     "shell.execute_reply": "2022-02-27T17:38:11.914550Z",
     "shell.execute_reply.started": "2022-02-27T08:29:41.508912Z"
    },
    "papermill": {
     "duration": 0.05542,
     "end_time": "2022-02-27T17:38:11.914663",
     "exception": false,
     "start_time": "2022-02-27T17:38:11.859243",
     "status": "completed"
    },
    "tags": []
   },
   "outputs": [
    {
     "data": {
      "text/html": [
       "<div>\n",
       "<style scoped>\n",
       "    .dataframe tbody tr th:only-of-type {\n",
       "        vertical-align: middle;\n",
       "    }\n",
       "\n",
       "    .dataframe tbody tr th {\n",
       "        vertical-align: top;\n",
       "    }\n",
       "\n",
       "    .dataframe thead th {\n",
       "        text-align: right;\n",
       "    }\n",
       "</style>\n",
       "<table border=\"1\" class=\"dataframe\">\n",
       "  <thead>\n",
       "    <tr style=\"text-align: right;\">\n",
       "      <th></th>\n",
       "      <th>mpg</th>\n",
       "      <th>cylinders</th>\n",
       "      <th>displacement</th>\n",
       "      <th>horsepower</th>\n",
       "      <th>weight</th>\n",
       "      <th>acceleration</th>\n",
       "      <th>model year</th>\n",
       "      <th>origin</th>\n",
       "      <th>car name</th>\n",
       "    </tr>\n",
       "  </thead>\n",
       "  <tbody>\n",
       "    <tr>\n",
       "      <th>0</th>\n",
       "      <td>18.0</td>\n",
       "      <td>8</td>\n",
       "      <td>307.0</td>\n",
       "      <td>130</td>\n",
       "      <td>3504</td>\n",
       "      <td>12.0</td>\n",
       "      <td>70</td>\n",
       "      <td>1</td>\n",
       "      <td>chevrolet chevelle malibu</td>\n",
       "    </tr>\n",
       "    <tr>\n",
       "      <th>1</th>\n",
       "      <td>15.0</td>\n",
       "      <td>8</td>\n",
       "      <td>350.0</td>\n",
       "      <td>165</td>\n",
       "      <td>3693</td>\n",
       "      <td>11.5</td>\n",
       "      <td>70</td>\n",
       "      <td>1</td>\n",
       "      <td>buick skylark 320</td>\n",
       "    </tr>\n",
       "    <tr>\n",
       "      <th>2</th>\n",
       "      <td>18.0</td>\n",
       "      <td>8</td>\n",
       "      <td>318.0</td>\n",
       "      <td>150</td>\n",
       "      <td>3436</td>\n",
       "      <td>11.0</td>\n",
       "      <td>70</td>\n",
       "      <td>1</td>\n",
       "      <td>plymouth satellite</td>\n",
       "    </tr>\n",
       "    <tr>\n",
       "      <th>3</th>\n",
       "      <td>16.0</td>\n",
       "      <td>8</td>\n",
       "      <td>304.0</td>\n",
       "      <td>150</td>\n",
       "      <td>3433</td>\n",
       "      <td>12.0</td>\n",
       "      <td>70</td>\n",
       "      <td>1</td>\n",
       "      <td>amc rebel sst</td>\n",
       "    </tr>\n",
       "    <tr>\n",
       "      <th>4</th>\n",
       "      <td>17.0</td>\n",
       "      <td>8</td>\n",
       "      <td>302.0</td>\n",
       "      <td>140</td>\n",
       "      <td>3449</td>\n",
       "      <td>10.5</td>\n",
       "      <td>70</td>\n",
       "      <td>1</td>\n",
       "      <td>ford torino</td>\n",
       "    </tr>\n",
       "  </tbody>\n",
       "</table>\n",
       "</div>"
      ],
      "text/plain": [
       "    mpg  cylinders  displacement horsepower  weight  acceleration  model year  \\\n",
       "0  18.0          8         307.0        130    3504          12.0          70   \n",
       "1  15.0          8         350.0        165    3693          11.5          70   \n",
       "2  18.0          8         318.0        150    3436          11.0          70   \n",
       "3  16.0          8         304.0        150    3433          12.0          70   \n",
       "4  17.0          8         302.0        140    3449          10.5          70   \n",
       "\n",
       "   origin                   car name  \n",
       "0       1  chevrolet chevelle malibu  \n",
       "1       1          buick skylark 320  \n",
       "2       1         plymouth satellite  \n",
       "3       1              amc rebel sst  \n",
       "4       1                ford torino  "
      ]
     },
     "execution_count": 3,
     "metadata": {},
     "output_type": "execute_result"
    }
   ],
   "source": [
    "mpg_df.head() #sample 5 records"
   ]
  },
  {
   "cell_type": "code",
   "execution_count": 4,
   "metadata": {
    "execution": {
     "iopub.execute_input": "2022-02-27T17:38:11.983740Z",
     "iopub.status.busy": "2022-02-27T17:38:11.982916Z",
     "iopub.status.idle": "2022-02-27T17:38:11.993918Z",
     "shell.execute_reply": "2022-02-27T17:38:11.994638Z",
     "shell.execute_reply.started": "2022-02-27T08:29:41.525761Z"
    },
    "papermill": {
     "duration": 0.048392,
     "end_time": "2022-02-27T17:38:11.994792",
     "exception": false,
     "start_time": "2022-02-27T17:38:11.946400",
     "status": "completed"
    },
    "tags": []
   },
   "outputs": [
    {
     "name": "stdout",
     "output_type": "stream",
     "text": [
      "<class 'pandas.core.frame.DataFrame'>\n",
      "RangeIndex: 398 entries, 0 to 397\n",
      "Data columns (total 9 columns):\n",
      " #   Column        Non-Null Count  Dtype  \n",
      "---  ------        --------------  -----  \n",
      " 0   mpg           398 non-null    float64\n",
      " 1   cylinders     398 non-null    int64  \n",
      " 2   displacement  398 non-null    float64\n",
      " 3   horsepower    398 non-null    object \n",
      " 4   weight        398 non-null    int64  \n",
      " 5   acceleration  398 non-null    float64\n",
      " 6   model year    398 non-null    int64  \n",
      " 7   origin        398 non-null    int64  \n",
      " 8   car name      398 non-null    object \n",
      "dtypes: float64(3), int64(4), object(2)\n",
      "memory usage: 28.1+ KB\n"
     ]
    }
   ],
   "source": [
    "mpg_df.info() #information about the data"
   ]
  },
  {
   "cell_type": "markdown",
   "metadata": {
    "papermill": {
     "duration": 0.033585,
     "end_time": "2022-02-27T17:38:12.064216",
     "exception": false,
     "start_time": "2022-02-27T17:38:12.030631",
     "status": "completed"
    },
    "tags": []
   },
   "source": [
    "**To build machine learning model we need to have numbers for every features. \"horsepower\" and \"car name\" has data type as object.**\n",
    "\n",
    "**Car name does not add any value so we will drop it.**\n",
    "\n",
    "**We need to look into \"horsepower\" column because it may contain any junk values**"
   ]
  },
  {
   "cell_type": "code",
   "execution_count": 5,
   "metadata": {
    "execution": {
     "iopub.execute_input": "2022-02-27T17:38:12.133282Z",
     "iopub.status.busy": "2022-02-27T17:38:12.132567Z",
     "iopub.status.idle": "2022-02-27T17:38:12.160015Z",
     "shell.execute_reply": "2022-02-27T17:38:12.159562Z",
     "shell.execute_reply.started": "2022-02-27T08:29:41.54184Z"
    },
    "papermill": {
     "duration": 0.064009,
     "end_time": "2022-02-27T17:38:12.160118",
     "exception": false,
     "start_time": "2022-02-27T17:38:12.096109",
     "status": "completed"
    },
    "tags": []
   },
   "outputs": [
    {
     "data": {
      "text/html": [
       "<div>\n",
       "<style scoped>\n",
       "    .dataframe tbody tr th:only-of-type {\n",
       "        vertical-align: middle;\n",
       "    }\n",
       "\n",
       "    .dataframe tbody tr th {\n",
       "        vertical-align: top;\n",
       "    }\n",
       "\n",
       "    .dataframe thead th {\n",
       "        text-align: right;\n",
       "    }\n",
       "</style>\n",
       "<table border=\"1\" class=\"dataframe\">\n",
       "  <thead>\n",
       "    <tr style=\"text-align: right;\">\n",
       "      <th></th>\n",
       "      <th>mpg</th>\n",
       "      <th>cylinders</th>\n",
       "      <th>displacement</th>\n",
       "      <th>horsepower</th>\n",
       "      <th>weight</th>\n",
       "      <th>acceleration</th>\n",
       "      <th>model year</th>\n",
       "      <th>origin</th>\n",
       "      <th>car name</th>\n",
       "    </tr>\n",
       "  </thead>\n",
       "  <tbody>\n",
       "    <tr>\n",
       "      <th>32</th>\n",
       "      <td>25.0</td>\n",
       "      <td>4</td>\n",
       "      <td>98.0</td>\n",
       "      <td>?</td>\n",
       "      <td>2046</td>\n",
       "      <td>19.0</td>\n",
       "      <td>71</td>\n",
       "      <td>1</td>\n",
       "      <td>ford pinto</td>\n",
       "    </tr>\n",
       "    <tr>\n",
       "      <th>126</th>\n",
       "      <td>21.0</td>\n",
       "      <td>6</td>\n",
       "      <td>200.0</td>\n",
       "      <td>?</td>\n",
       "      <td>2875</td>\n",
       "      <td>17.0</td>\n",
       "      <td>74</td>\n",
       "      <td>1</td>\n",
       "      <td>ford maverick</td>\n",
       "    </tr>\n",
       "    <tr>\n",
       "      <th>330</th>\n",
       "      <td>40.9</td>\n",
       "      <td>4</td>\n",
       "      <td>85.0</td>\n",
       "      <td>?</td>\n",
       "      <td>1835</td>\n",
       "      <td>17.3</td>\n",
       "      <td>80</td>\n",
       "      <td>2</td>\n",
       "      <td>renault lecar deluxe</td>\n",
       "    </tr>\n",
       "    <tr>\n",
       "      <th>336</th>\n",
       "      <td>23.6</td>\n",
       "      <td>4</td>\n",
       "      <td>140.0</td>\n",
       "      <td>?</td>\n",
       "      <td>2905</td>\n",
       "      <td>14.3</td>\n",
       "      <td>80</td>\n",
       "      <td>1</td>\n",
       "      <td>ford mustang cobra</td>\n",
       "    </tr>\n",
       "    <tr>\n",
       "      <th>354</th>\n",
       "      <td>34.5</td>\n",
       "      <td>4</td>\n",
       "      <td>100.0</td>\n",
       "      <td>?</td>\n",
       "      <td>2320</td>\n",
       "      <td>15.8</td>\n",
       "      <td>81</td>\n",
       "      <td>2</td>\n",
       "      <td>renault 18i</td>\n",
       "    </tr>\n",
       "    <tr>\n",
       "      <th>374</th>\n",
       "      <td>23.0</td>\n",
       "      <td>4</td>\n",
       "      <td>151.0</td>\n",
       "      <td>?</td>\n",
       "      <td>3035</td>\n",
       "      <td>20.5</td>\n",
       "      <td>82</td>\n",
       "      <td>1</td>\n",
       "      <td>amc concord dl</td>\n",
       "    </tr>\n",
       "  </tbody>\n",
       "</table>\n",
       "</div>"
      ],
      "text/plain": [
       "      mpg  cylinders  displacement horsepower  weight  acceleration  \\\n",
       "32   25.0          4          98.0          ?    2046          19.0   \n",
       "126  21.0          6         200.0          ?    2875          17.0   \n",
       "330  40.9          4          85.0          ?    1835          17.3   \n",
       "336  23.6          4         140.0          ?    2905          14.3   \n",
       "354  34.5          4         100.0          ?    2320          15.8   \n",
       "374  23.0          4         151.0          ?    3035          20.5   \n",
       "\n",
       "     model year  origin              car name  \n",
       "32           71       1            ford pinto  \n",
       "126          74       1         ford maverick  \n",
       "330          80       2  renault lecar deluxe  \n",
       "336          80       1    ford mustang cobra  \n",
       "354          81       2           renault 18i  \n",
       "374          82       1        amc concord dl  "
      ]
     },
     "execution_count": 5,
     "metadata": {},
     "output_type": "execute_result"
    }
   ],
   "source": [
    "mpg_df[mpg_df['horsepower'].str.isnumeric()==False]"
   ]
  },
  {
   "cell_type": "markdown",
   "metadata": {
    "papermill": {
     "duration": 0.032538,
     "end_time": "2022-02-27T17:38:12.225198",
     "exception": false,
     "start_time": "2022-02-27T17:38:12.192660",
     "status": "completed"
    },
    "tags": []
   },
   "source": [
    "**We can see there are six values which has ?We can replace with nan values**"
   ]
  },
  {
   "cell_type": "code",
   "execution_count": 6,
   "metadata": {
    "execution": {
     "iopub.execute_input": "2022-02-27T17:38:12.296564Z",
     "iopub.status.busy": "2022-02-27T17:38:12.295767Z",
     "iopub.status.idle": "2022-02-27T17:38:12.298870Z",
     "shell.execute_reply": "2022-02-27T17:38:12.298329Z",
     "shell.execute_reply.started": "2022-02-27T08:29:41.558712Z"
    },
    "papermill": {
     "duration": 0.041276,
     "end_time": "2022-02-27T17:38:12.298969",
     "exception": false,
     "start_time": "2022-02-27T17:38:12.257693",
     "status": "completed"
    },
    "tags": []
   },
   "outputs": [],
   "source": [
    "mpg_df=mpg_df.replace('?',np.nan)"
   ]
  },
  {
   "cell_type": "code",
   "execution_count": 7,
   "metadata": {
    "execution": {
     "iopub.execute_input": "2022-02-27T17:38:12.370863Z",
     "iopub.status.busy": "2022-02-27T17:38:12.370245Z",
     "iopub.status.idle": "2022-02-27T17:38:12.373149Z",
     "shell.execute_reply": "2022-02-27T17:38:12.372655Z",
     "shell.execute_reply.started": "2022-02-27T08:29:41.566823Z"
    },
    "papermill": {
     "duration": 0.042093,
     "end_time": "2022-02-27T17:38:12.373242",
     "exception": false,
     "start_time": "2022-02-27T17:38:12.331149",
     "status": "completed"
    },
    "tags": []
   },
   "outputs": [],
   "source": [
    "mpg_df=mpg_df.drop('car name',axis=1)"
   ]
  },
  {
   "cell_type": "code",
   "execution_count": 8,
   "metadata": {
    "execution": {
     "iopub.execute_input": "2022-02-27T17:38:12.443262Z",
     "iopub.status.busy": "2022-02-27T17:38:12.442492Z",
     "iopub.status.idle": "2022-02-27T17:38:12.452416Z",
     "shell.execute_reply": "2022-02-27T17:38:12.451987Z",
     "shell.execute_reply.started": "2022-02-27T08:29:41.575682Z"
    },
    "papermill": {
     "duration": 0.046618,
     "end_time": "2022-02-27T17:38:12.452516",
     "exception": false,
     "start_time": "2022-02-27T17:38:12.405898",
     "status": "completed"
    },
    "tags": []
   },
   "outputs": [],
   "source": [
    "mpg_df=mpg_df.apply(lambda x: x.fillna(x.median()),axis=0)"
   ]
  },
  {
   "cell_type": "code",
   "execution_count": 9,
   "metadata": {
    "execution": {
     "iopub.execute_input": "2022-02-27T17:38:12.528770Z",
     "iopub.status.busy": "2022-02-27T17:38:12.528099Z",
     "iopub.status.idle": "2022-02-27T17:38:12.531604Z",
     "shell.execute_reply": "2022-02-27T17:38:12.532252Z",
     "shell.execute_reply.started": "2022-02-27T08:29:41.58696Z"
    },
    "papermill": {
     "duration": 0.047362,
     "end_time": "2022-02-27T17:38:12.532426",
     "exception": false,
     "start_time": "2022-02-27T17:38:12.485064",
     "status": "completed"
    },
    "tags": []
   },
   "outputs": [
    {
     "name": "stdout",
     "output_type": "stream",
     "text": [
      "<class 'pandas.core.frame.DataFrame'>\n",
      "RangeIndex: 398 entries, 0 to 397\n",
      "Data columns (total 8 columns):\n",
      " #   Column        Non-Null Count  Dtype  \n",
      "---  ------        --------------  -----  \n",
      " 0   mpg           398 non-null    float64\n",
      " 1   cylinders     398 non-null    int64  \n",
      " 2   displacement  398 non-null    float64\n",
      " 3   horsepower    398 non-null    object \n",
      " 4   weight        398 non-null    int64  \n",
      " 5   acceleration  398 non-null    float64\n",
      " 6   model year    398 non-null    int64  \n",
      " 7   origin        398 non-null    int64  \n",
      "dtypes: float64(3), int64(4), object(1)\n",
      "memory usage: 25.0+ KB\n"
     ]
    }
   ],
   "source": [
    "mpg_df.info()"
   ]
  },
  {
   "cell_type": "markdown",
   "metadata": {
    "papermill": {
     "duration": 0.032468,
     "end_time": "2022-02-27T17:38:12.599391",
     "exception": false,
     "start_time": "2022-02-27T17:38:12.566923",
     "status": "completed"
    },
    "tags": []
   },
   "source": [
    "# Separate independent and dependent variables"
   ]
  },
  {
   "cell_type": "code",
   "execution_count": 10,
   "metadata": {
    "execution": {
     "iopub.execute_input": "2022-02-27T17:38:12.671019Z",
     "iopub.status.busy": "2022-02-27T17:38:12.670327Z",
     "iopub.status.idle": "2022-02-27T17:38:12.673390Z",
     "shell.execute_reply": "2022-02-27T17:38:12.672837Z",
     "shell.execute_reply.started": "2022-02-27T08:29:41.601341Z"
    },
    "papermill": {
     "duration": 0.041566,
     "end_time": "2022-02-27T17:38:12.673486",
     "exception": false,
     "start_time": "2022-02-27T17:38:12.631920",
     "status": "completed"
    },
    "tags": []
   },
   "outputs": [],
   "source": [
    "#'mpg' is dependent variable so drop it . Copying rest of the columns to X\n",
    "X = mpg_df.drop('mpg', axis=1)\n",
    "\n",
    "#Copying the 'mpg' column alone into the y dataframe. This is the dependent variable\n",
    "y = mpg_df[['mpg']]\n"
   ]
  },
  {
   "cell_type": "markdown",
   "metadata": {
    "papermill": {
     "duration": 0.032551,
     "end_time": "2022-02-27T17:38:12.738871",
     "exception": false,
     "start_time": "2022-02-27T17:38:12.706320",
     "status": "completed"
    },
    "tags": []
   },
   "source": [
    "# Distribution of Independent Variables"
   ]
  },
  {
   "cell_type": "code",
   "execution_count": 11,
   "metadata": {
    "execution": {
     "iopub.execute_input": "2022-02-27T17:38:12.809173Z",
     "iopub.status.busy": "2022-02-27T17:38:12.808599Z",
     "iopub.status.idle": "2022-02-27T17:38:13.722639Z",
     "shell.execute_reply": "2022-02-27T17:38:13.722133Z",
     "shell.execute_reply.started": "2022-02-27T08:29:41.610205Z"
    },
    "papermill": {
     "duration": 0.951505,
     "end_time": "2022-02-27T17:38:13.722740",
     "exception": false,
     "start_time": "2022-02-27T17:38:12.771235",
     "status": "completed"
    },
    "tags": []
   },
   "outputs": [
    {
     "data": {
      "image/png": "[encoded data removed]",
      "text/plain": [
       "<Figure size 432x288 with 1 Axes>"
      ]
     },
     "metadata": {
      "needs_background": "light"
     },
     "output_type": "display_data"
    },
    {
     "data": {
      "image/png": "[encoded data removed]",
      "text/plain": [
       "<Figure size 432x288 with 1 Axes>"
      ]
     },
     "metadata": {
      "needs_background": "light"
     },
     "output_type": "display_data"
    },
    {
     "data": {
      "image/png": "[encoded data removed]",
      "text/plain": [
       "<Figure size 432x288 with 1 Axes>"
      ]
     },
     "metadata": {
      "needs_background": "light"
     },
     "output_type": "display_data"
    },
    {
     "data": {
      "image/png": "[encoded data removed]",
      "text/plain": [
       "<Figure size 432x288 with 1 Axes>"
      ]
     },
     "metadata": {
      "needs_background": "light"
     },
     "output_type": "display_data"
    },
    {
     "data": {
      "image/png": "[encoded data removed]",
      "text/plain": [
       "<Figure size 432x288 with 1 Axes>"
      ]
     },
     "metadata": {
      "needs_background": "light"
     },
     "output_type": "display_data"
    },
    {
     "data": {
      "image/png": "[encoded data removed]",
      "text/plain": [
       "<Figure size 432x288 with 1 Axes>"
      ]
     },
     "metadata": {
      "needs_background": "light"
     },
     "output_type": "display_data"
    }
   ],
   "source": [
    "a=['cylinders', 'displacement', 'horsepower', 'weight', 'acceleration', 'model year']\n",
    "for i in a:\n",
    "    plt.figure()\n",
    "    sns.distplot(X[i])"
   ]
  },
  {
   "cell_type": "markdown",
   "metadata": {
    "papermill": {
     "duration": 0.03661,
     "end_time": "2022-02-27T17:38:13.796960",
     "exception": false,
     "start_time": "2022-02-27T17:38:13.760350",
     "status": "completed"
    },
    "tags": []
   },
   "source": [
    "**\"displacement\",\"horsepower\",\"weight\" columns are right skewed.It has little peakness towards right**\n",
    "\n",
    "**\"acceleration\" is normally distributed**\n",
    "\n",
    "**\"model year\" seems normal but wider at the center**\n",
    "\n",
    "**\"cylinders\" has only certain values which repeating often**"
   ]
  },
  {
   "cell_type": "code",
   "execution_count": 12,
   "metadata": {
    "execution": {
     "iopub.execute_input": "2022-02-27T17:38:13.878563Z",
     "iopub.status.busy": "2022-02-27T17:38:13.877692Z",
     "iopub.status.idle": "2022-02-27T17:38:13.966082Z",
     "shell.execute_reply": "2022-02-27T17:38:13.966525Z",
     "shell.execute_reply.started": "2022-02-27T08:29:42.440457Z"
    },
    "papermill": {
     "duration": 0.133194,
     "end_time": "2022-02-27T17:38:13.966650",
     "exception": false,
     "start_time": "2022-02-27T17:38:13.833456",
     "status": "completed"
    },
    "tags": []
   },
   "outputs": [
    {
     "data": {
      "image/png": "[encoded data removed]",
      "text/plain": [
       "<Figure size 432x288 with 1 Axes>"
      ]
     },
     "metadata": {
      "needs_background": "light"
     },
     "output_type": "display_data"
    }
   ],
   "source": [
    "a=['origin']\n",
    "for i in a:\n",
    "    plt.figure()\n",
    "    sns.countplot(X[i])"
   ]
  },
  {
   "cell_type": "markdown",
   "metadata": {
    "papermill": {
     "duration": 0.039775,
     "end_time": "2022-02-27T17:38:14.044564",
     "exception": false,
     "start_time": "2022-02-27T17:38:14.004789",
     "status": "completed"
    },
    "tags": []
   },
   "source": [
    "**origin 1 is more compared to others**\n",
    "\n"
   ]
  },
  {
   "cell_type": "markdown",
   "metadata": {
    "papermill": {
     "duration": 0.03763,
     "end_time": "2022-02-27T17:38:14.120430",
     "exception": false,
     "start_time": "2022-02-27T17:38:14.082800",
     "status": "completed"
    },
    "tags": []
   },
   "source": [
    "# Distribution of dependent Variable"
   ]
  },
  {
   "cell_type": "code",
   "execution_count": 13,
   "metadata": {
    "execution": {
     "iopub.execute_input": "2022-02-27T17:38:14.207053Z",
     "iopub.status.busy": "2022-02-27T17:38:14.206193Z",
     "iopub.status.idle": "2022-02-27T17:38:14.341734Z",
     "shell.execute_reply": "2022-02-27T17:38:14.342372Z",
     "shell.execute_reply.started": "2022-02-27T08:29:42.533518Z"
    },
    "papermill": {
     "duration": 0.184147,
     "end_time": "2022-02-27T17:38:14.342515",
     "exception": false,
     "start_time": "2022-02-27T17:38:14.158368",
     "status": "completed"
    },
    "tags": []
   },
   "outputs": [
    {
     "data": {
      "text/plain": [
       "<matplotlib.axes._subplots.AxesSubplot at 0x7f871d11a810>"
      ]
     },
     "execution_count": 13,
     "metadata": {},
     "output_type": "execute_result"
    },
    {
     "data": {
      "image/png": "[encoded data removed]",
      "text/plain": [
       "<Figure size 432x288 with 1 Axes>"
      ]
     },
     "metadata": {
      "needs_background": "light"
     },
     "output_type": "display_data"
    }
   ],
   "source": [
    "sns.distplot(y['mpg'])"
   ]
  },
  {
   "cell_type": "markdown",
   "metadata": {
    "papermill": {
     "duration": 0.040591,
     "end_time": "2022-02-27T17:38:14.424571",
     "exception": false,
     "start_time": "2022-02-27T17:38:14.383980",
     "status": "completed"
    },
    "tags": []
   },
   "source": [
    "**Little Skewness towards right**"
   ]
  },
  {
   "cell_type": "code",
   "execution_count": 14,
   "metadata": {
    "execution": {
     "iopub.execute_input": "2022-02-27T17:38:14.511302Z",
     "iopub.status.busy": "2022-02-27T17:38:14.510439Z",
     "iopub.status.idle": "2022-02-27T17:38:14.516661Z",
     "shell.execute_reply": "2022-02-27T17:38:14.516254Z",
     "shell.execute_reply.started": "2022-02-27T08:29:42.676081Z"
    },
    "papermill": {
     "duration": 0.053127,
     "end_time": "2022-02-27T17:38:14.516755",
     "exception": false,
     "start_time": "2022-02-27T17:38:14.463628",
     "status": "completed"
    },
    "tags": []
   },
   "outputs": [],
   "source": [
    "from sklearn import preprocessing\n",
    "\n",
    "# scale all the columns of the mpg_df. This will produce a numpy array\n",
    "X_scaled = preprocessing.scale(X)\n",
    "X_scaled = pd.DataFrame(X_scaled, columns=X.columns)  # ideally the training and test should be \n",
    "\n",
    "y_scaled = preprocessing.scale(y)\n",
    "y_scaled = pd.DataFrame(y_scaled, columns=y.columns)  # ideally the training and test should be "
   ]
  },
  {
   "cell_type": "code",
   "execution_count": 15,
   "metadata": {
    "execution": {
     "iopub.execute_input": "2022-02-27T17:38:14.656556Z",
     "iopub.status.busy": "2022-02-27T17:38:14.655635Z",
     "iopub.status.idle": "2022-02-27T17:38:14.660888Z",
     "shell.execute_reply": "2022-02-27T17:38:14.660431Z",
     "shell.execute_reply.started": "2022-02-27T08:29:45.69133Z"
    },
    "papermill": {
     "duration": 0.080266,
     "end_time": "2022-02-27T17:38:14.660991",
     "exception": false,
     "start_time": "2022-02-27T17:38:14.580725",
     "status": "completed"
    },
    "tags": []
   },
   "outputs": [],
   "source": [
    "\n",
    "from sklearn.model_selection import train_test_split\n",
    "\n",
    "X_train, X_test, y_train, y_test = train_test_split(X_scaled, y_scaled, test_size=0.30, random_state=1)"
   ]
  },
  {
   "cell_type": "markdown",
   "metadata": {
    "papermill": {
     "duration": 0.039582,
     "end_time": "2022-02-27T17:38:14.741221",
     "exception": false,
     "start_time": "2022-02-27T17:38:14.701639",
     "status": "completed"
    },
    "tags": []
   },
   "source": [
    "# Simple linear model"
   ]
  },
  {
   "cell_type": "code",
   "execution_count": 16,
   "metadata": {
    "execution": {
     "iopub.execute_input": "2022-02-27T17:38:14.832723Z",
     "iopub.status.busy": "2022-02-27T17:38:14.831843Z",
     "iopub.status.idle": "2022-02-27T17:38:14.884183Z",
     "shell.execute_reply": "2022-02-27T17:38:14.885392Z",
     "shell.execute_reply.started": "2022-02-27T08:29:54.340165Z"
    },
    "papermill": {
     "duration": 0.105268,
     "end_time": "2022-02-27T17:38:14.885582",
     "exception": false,
     "start_time": "2022-02-27T17:38:14.780314",
     "status": "completed"
    },
    "tags": []
   },
   "outputs": [
    {
     "name": "stdout",
     "output_type": "stream",
     "text": [
      "The coefficient for cylinders is -0.08561436895562677\n",
      "The coefficient for displacement is 0.30441822535930235\n",
      "The coefficient for horsepower is -0.09718466302484195\n",
      "The coefficient for weight is -0.7628632829136768\n",
      "The coefficient for acceleration is 0.021591275172924942\n",
      "The coefficient for model year is 0.37494080741187136\n",
      "The coefficient for origin is 0.12302637024556859\n"
     ]
    }
   ],
   "source": [
    "regression_model = LinearRegression()\n",
    "regression_model.fit(X_train, y_train)\n",
    "\n",
    "for idx, col_name in enumerate(X_train.columns):\n",
    "    print(\"The coefficient for {} is {}\".format(col_name, regression_model.coef_[0][idx]))"
   ]
  },
  {
   "cell_type": "markdown",
   "metadata": {
    "papermill": {
     "duration": 0.039059,
     "end_time": "2022-02-27T17:38:14.971070",
     "exception": false,
     "start_time": "2022-02-27T17:38:14.932011",
     "status": "completed"
    },
    "tags": []
   },
   "source": [
    "**Here the coeficient values are relatively smaller. So we can say this is the smoother model.**"
   ]
  },
  {
   "cell_type": "code",
   "execution_count": 17,
   "metadata": {
    "execution": {
     "iopub.execute_input": "2022-02-27T17:38:15.054501Z",
     "iopub.status.busy": "2022-02-27T17:38:15.053916Z",
     "iopub.status.idle": "2022-02-27T17:38:15.057045Z",
     "shell.execute_reply": "2022-02-27T17:38:15.057672Z",
     "shell.execute_reply.started": "2022-02-27T08:30:26.118714Z"
    },
    "papermill": {
     "duration": 0.048431,
     "end_time": "2022-02-27T17:38:15.057843",
     "exception": false,
     "start_time": "2022-02-27T17:38:15.009412",
     "status": "completed"
    },
    "tags": []
   },
   "outputs": [
    {
     "name": "stdout",
     "output_type": "stream",
     "text": [
      "The intercept for our model is 0.012833128293992893\n"
     ]
    }
   ],
   "source": [
    "intercept = regression_model.intercept_[0]\n",
    "\n",
    "print(\"The intercept for our model is {}\".format(intercept))"
   ]
  },
  {
   "cell_type": "markdown",
   "metadata": {
    "papermill": {
     "duration": 0.060553,
     "end_time": "2022-02-27T17:38:15.168258",
     "exception": false,
     "start_time": "2022-02-27T17:38:15.107705",
     "status": "completed"
    },
    "tags": []
   },
   "source": [
    "# Regularized Ridge Model "
   ]
  },
  {
   "cell_type": "markdown",
   "metadata": {
    "papermill": {
     "duration": 0.039111,
     "end_time": "2022-02-27T17:38:15.246695",
     "exception": false,
     "start_time": "2022-02-27T17:38:15.207584",
     "status": "completed"
    },
    "tags": []
   },
   "source": [
    "Ridge regression performs ‘L2 regularization‘, i.e. it adds a factor of sum of squares of coefficients in the optimization objective. Thus, ridge regression optimizes the following:\n",
    "\n",
    "\n",
    "Objective = RSS + α * (sum of square of coefficients)\n",
    "Here, α (alpha) is the parameter which balances the amount of emphasis given to minimizing RSS vs minimizing sum of square of coefficients. α can take various values:\n",
    "\n",
    "α = 0:\n",
    "The objective becomes same as simple linear regression.\n",
    "We’ll get the same coefficients as simple linear regression.\n",
    "α = ∞:\n",
    "The coefficients will be zero. Why? Because of infinite weightage on square of coefficients, anything less than zero will make the objective infinite.\n",
    "0 < α < ∞:\n",
    "The magnitude of α will decide the weightage given to different parts of objective.\n",
    "The coefficients will be somewhere between 0 and ones for simple linear regression."
   ]
  },
  {
   "cell_type": "code",
   "execution_count": 18,
   "metadata": {
    "execution": {
     "iopub.execute_input": "2022-02-27T17:38:15.348218Z",
     "iopub.status.busy": "2022-02-27T17:38:15.345653Z",
     "iopub.status.idle": "2022-02-27T17:38:15.352308Z",
     "shell.execute_reply": "2022-02-27T17:38:15.351882Z",
     "shell.execute_reply.started": "2022-02-27T08:31:57.515503Z"
    },
    "papermill": {
     "duration": 0.066782,
     "end_time": "2022-02-27T17:38:15.352405",
     "exception": false,
     "start_time": "2022-02-27T17:38:15.285623",
     "status": "completed"
    },
    "tags": []
   },
   "outputs": [
    {
     "name": "stdout",
     "output_type": "stream",
     "text": [
      "Ridge model coefficients for cylinders is -0.08073001909556034:\n",
      "Ridge model coefficients for displacement is 0.2882220741723199:\n",
      "Ridge model coefficients for horsepower is -0.09985675156606223:\n",
      "Ridge model coefficients for weight is -0.751055091602451:\n",
      "Ridge model coefficients for acceleration is 0.01912769831483272:\n",
      "Ridge model coefficients for model year is 0.3737831248958432:\n",
      "Ridge model coefficients for origin is 0.12212717285800333:\n"
     ]
    }
   ],
   "source": [
    "ridge = Ridge(alpha=.3) #coefficients are prevented to become too big by this alpha value\n",
    "ridge.fit(X_train,y_train)\n",
    "for i,col in enumerate(X_train.columns):   \n",
    "    print (\"Ridge model coefficients for {} is {}:\".format(col,ridge.coef_[0][i]))"
   ]
  },
  {
   "cell_type": "markdown",
   "metadata": {
    "papermill": {
     "duration": 0.038726,
     "end_time": "2022-02-27T17:38:15.430625",
     "exception": false,
     "start_time": "2022-02-27T17:38:15.391899",
     "status": "completed"
    },
    "tags": []
   },
   "source": [
    "**We can see less coefficients values compared to linear regression. Since it is smoother model we will not see much difference in coefficient.**"
   ]
  },
  {
   "cell_type": "markdown",
   "metadata": {
    "papermill": {
     "duration": 0.03966,
     "end_time": "2022-02-27T17:38:15.509533",
     "exception": false,
     "start_time": "2022-02-27T17:38:15.469873",
     "status": "completed"
    },
    "tags": []
   },
   "source": [
    "# Regularized LASSO Model"
   ]
  },
  {
   "cell_type": "markdown",
   "metadata": {
    "papermill": {
     "duration": 0.040404,
     "end_time": "2022-02-27T17:38:15.592166",
     "exception": false,
     "start_time": "2022-02-27T17:38:15.551762",
     "status": "completed"
    },
    "tags": []
   },
   "source": [
    "LASSO stands for Least Absolute Shrinkage and Selection Operator. I know it doesn’t give much of an idea but there are 2 key words here – ‘absolute‘ and ‘selection‘.\n",
    "\n",
    "Lets consider the former first and worry about the latter later.\n",
    "\n",
    "Lasso regression performs L1 regularization, i.e. it adds a factor of sum of absolute value of coefficients in the optimization objective. Thus, lasso regression optimizes the following:\n",
    "\n",
    "Objective = RSS + α * (sum of absolute value of coefficients)\n",
    "Here, α (alpha) works similar to that of ridge and provides a trade-off between balancing RSS and magnitude of coefficients. Like that of ridge, α can take various values. Lets iterate it here briefly:\n",
    "\n",
    "α = 0: Same coefficients as simple linear regression\n",
    "α = ∞: All coefficients zero (same logic as before)\n",
    "0 < α < ∞: coefficients between 0 and that of simple linear regression"
   ]
  },
  {
   "cell_type": "code",
   "execution_count": 19,
   "metadata": {
    "execution": {
     "iopub.execute_input": "2022-02-27T17:38:15.687189Z",
     "iopub.status.busy": "2022-02-27T17:38:15.686412Z",
     "iopub.status.idle": "2022-02-27T17:38:15.689927Z",
     "shell.execute_reply": "2022-02-27T17:38:15.690602Z",
     "shell.execute_reply.started": "2022-02-27T08:33:13.799274Z"
    },
    "papermill": {
     "duration": 0.058829,
     "end_time": "2022-02-27T17:38:15.690756",
     "exception": false,
     "start_time": "2022-02-27T17:38:15.631927",
     "status": "completed"
    },
    "tags": []
   },
   "outputs": [
    {
     "name": "stdout",
     "output_type": "stream",
     "text": [
      "Lasso model coefficients for cylinders is -0.0:\n",
      "Lasso model coefficients for displacement is -0.0:\n",
      "Lasso model coefficients for horsepower is -0.01328000293731447:\n",
      "Lasso model coefficients for weight is -0.6205207866794483:\n",
      "Lasso model coefficients for acceleration is 0.0:\n",
      "Lasso model coefficients for model year is 0.29198732924913473:\n",
      "Lasso model coefficients for origin is 0.021567653979880613:\n"
     ]
    }
   ],
   "source": [
    "lasso = Lasso(alpha=0.1)\n",
    "lasso.fit(X_train,y_train)\n",
    "for i,col in enumerate(X_train):\n",
    "    print (\"Lasso model coefficients for {} is {}:\".format(col,lasso.coef_[i]))"
   ]
  },
  {
   "cell_type": "markdown",
   "metadata": {
    "papermill": {
     "duration": 0.039574,
     "end_time": "2022-02-27T17:38:15.770904",
     "exception": false,
     "start_time": "2022-02-27T17:38:15.731330",
     "status": "completed"
    },
    "tags": []
   },
   "source": [
    "**Many of the coefficients have become 0 so we can drop of those dimensions from the model.It has taken only 5 dimensions to build the model.Lasso is also used for feature selection.**"
   ]
  },
  {
   "cell_type": "markdown",
   "metadata": {
    "papermill": {
     "duration": 0.039233,
     "end_time": "2022-02-27T17:38:15.849686",
     "exception": false,
     "start_time": "2022-02-27T17:38:15.810453",
     "status": "completed"
    },
    "tags": []
   },
   "source": [
    "## Comparing the scores"
   ]
  },
  {
   "cell_type": "code",
   "execution_count": 20,
   "metadata": {
    "execution": {
     "iopub.execute_input": "2022-02-27T17:38:15.940246Z",
     "iopub.status.busy": "2022-02-27T17:38:15.939570Z",
     "iopub.status.idle": "2022-02-27T17:38:15.942765Z",
     "shell.execute_reply": "2022-02-27T17:38:15.943211Z",
     "shell.execute_reply.started": "2022-02-27T08:34:05.596559Z"
    },
    "papermill": {
     "duration": 0.054017,
     "end_time": "2022-02-27T17:38:15.943327",
     "exception": false,
     "start_time": "2022-02-27T17:38:15.889310",
     "status": "completed"
    },
    "tags": []
   },
   "outputs": [
    {
     "name": "stdout",
     "output_type": "stream",
     "text": [
      "0.8081802739111359\n",
      "0.8472274567567305\n"
     ]
    }
   ],
   "source": [
    "print(regression_model.score(X_train, y_train))\n",
    "print(regression_model.score(X_test, y_test))\n"
   ]
  },
  {
   "cell_type": "code",
   "execution_count": 21,
   "metadata": {
    "execution": {
     "iopub.execute_input": "2022-02-27T17:38:16.035343Z",
     "iopub.status.busy": "2022-02-27T17:38:16.034604Z",
     "iopub.status.idle": "2022-02-27T17:38:16.038173Z",
     "shell.execute_reply": "2022-02-27T17:38:16.038714Z",
     "shell.execute_reply.started": "2022-02-27T08:34:09.173527Z"
    },
    "papermill": {
     "duration": 0.055804,
     "end_time": "2022-02-27T17:38:16.038894",
     "exception": false,
     "start_time": "2022-02-27T17:38:15.983090",
     "status": "completed"
    },
    "tags": []
   },
   "outputs": [
    {
     "name": "stdout",
     "output_type": "stream",
     "text": [
      "0.8081651504849107\n",
      "0.8475401122140551\n"
     ]
    }
   ],
   "source": [
    "print(ridge.score(X_train, y_train))\n",
    "print(ridge.score(X_test, y_test))"
   ]
  },
  {
   "cell_type": "markdown",
   "metadata": {
    "papermill": {
     "duration": 0.040137,
     "end_time": "2022-02-27T17:38:16.121513",
     "exception": false,
     "start_time": "2022-02-27T17:38:16.081376",
     "status": "completed"
    },
    "tags": []
   },
   "source": [
    "**Accuracy of linear and ridge are more or less same because both coefficients values are similar**"
   ]
  },
  {
   "cell_type": "code",
   "execution_count": 22,
   "metadata": {
    "execution": {
     "iopub.execute_input": "2022-02-27T17:38:16.213931Z",
     "iopub.status.busy": "2022-02-27T17:38:16.213249Z",
     "iopub.status.idle": "2022-02-27T17:38:16.217126Z",
     "shell.execute_reply": "2022-02-27T17:38:16.216587Z",
     "shell.execute_reply.started": "2022-02-27T08:34:18.777252Z"
    },
    "papermill": {
     "duration": 0.054977,
     "end_time": "2022-02-27T17:38:16.217234",
     "exception": false,
     "start_time": "2022-02-27T17:38:16.162257",
     "status": "completed"
    },
    "tags": []
   },
   "outputs": [
    {
     "name": "stdout",
     "output_type": "stream",
     "text": [
      "0.7853770917055521\n",
      "0.8277658025171161\n"
     ]
    }
   ],
   "source": [
    "print(lasso.score(X_train, y_train))\n",
    "print(lasso.score(X_test, y_test))"
   ]
  },
  {
   "cell_type": "markdown",
   "metadata": {
    "papermill": {
     "duration": 0.039847,
     "end_time": "2022-02-27T17:38:16.297897",
     "exception": false,
     "start_time": "2022-02-27T17:38:16.258050",
     "status": "completed"
    },
    "tags": []
   },
   "source": [
    "**Here the performance of lasso slightly gone down but this model used only 5 dimensions while other two used 8 dimensions. This model is feasible compared to other two because  dimensions are reduced**"
   ]
  },
  {
   "cell_type": "markdown",
   "metadata": {
    "papermill": {
     "duration": 0.040299,
     "end_time": "2022-02-27T17:38:16.378881",
     "exception": false,
     "start_time": "2022-02-27T17:38:16.338582",
     "status": "completed"
    },
    "tags": []
   },
   "source": [
    "# We will use polynomial features to understand ridge and lasso better"
   ]
  },
  {
   "cell_type": "code",
   "execution_count": 23,
   "metadata": {
    "execution": {
     "iopub.execute_input": "2022-02-27T17:38:16.473560Z",
     "iopub.status.busy": "2022-02-27T17:38:16.471921Z",
     "iopub.status.idle": "2022-02-27T17:38:16.474364Z",
     "shell.execute_reply": "2022-02-27T17:38:16.472796Z",
     "shell.execute_reply.started": "2022-02-27T08:35:01.424795Z"
    },
    "papermill": {
     "duration": 0.055025,
     "end_time": "2022-02-27T17:38:16.474517",
     "exception": false,
     "start_time": "2022-02-27T17:38:16.419492",
     "status": "completed"
    },
    "tags": []
   },
   "outputs": [],
   "source": [
    "from sklearn.preprocessing import PolynomialFeatures"
   ]
  },
  {
   "cell_type": "code",
   "execution_count": 24,
   "metadata": {
    "execution": {
     "iopub.execute_input": "2022-02-27T17:38:16.637219Z",
     "iopub.status.busy": "2022-02-27T17:38:16.636073Z",
     "iopub.status.idle": "2022-02-27T17:38:16.638158Z",
     "shell.execute_reply": "2022-02-27T17:38:16.638961Z",
     "shell.execute_reply.started": "2022-02-27T08:35:03.697739Z"
    },
    "papermill": {
     "duration": 0.092133,
     "end_time": "2022-02-27T17:38:16.639139",
     "exception": false,
     "start_time": "2022-02-27T17:38:16.547006",
     "status": "completed"
    },
    "tags": []
   },
   "outputs": [],
   "source": [
    "poly = PolynomialFeatures(degree = 2, interaction_only=True)"
   ]
  },
  {
   "cell_type": "code",
   "execution_count": 25,
   "metadata": {
    "execution": {
     "iopub.execute_input": "2022-02-27T17:38:16.839757Z",
     "iopub.status.busy": "2022-02-27T17:38:16.838967Z",
     "iopub.status.idle": "2022-02-27T17:38:16.855781Z",
     "shell.execute_reply": "2022-02-27T17:38:16.856481Z",
     "shell.execute_reply.started": "2022-02-27T08:35:05.894546Z"
    },
    "papermill": {
     "duration": 0.122281,
     "end_time": "2022-02-27T17:38:16.856671",
     "exception": false,
     "start_time": "2022-02-27T17:38:16.734390",
     "status": "completed"
    },
    "tags": []
   },
   "outputs": [
    {
     "data": {
      "text/plain": [
       "(278, 29)"
      ]
     },
     "execution_count": 25,
     "metadata": {},
     "output_type": "execute_result"
    }
   ],
   "source": [
    "X_poly = poly.fit_transform(X_scaled)\n",
    "X_train, X_test, y_train, y_test = train_test_split(X_poly, y, test_size=0.30, random_state=1)\n",
    "X_train.shape"
   ]
  },
  {
   "cell_type": "markdown",
   "metadata": {
    "papermill": {
     "duration": 0.109108,
     "end_time": "2022-02-27T17:38:17.041350",
     "exception": false,
     "start_time": "2022-02-27T17:38:16.932242",
     "status": "completed"
    },
    "tags": []
   },
   "source": [
    "**Our dimensions are increased to 29**"
   ]
  },
  {
   "cell_type": "markdown",
   "metadata": {
    "papermill": {
     "duration": 0.095183,
     "end_time": "2022-02-27T17:38:17.236262",
     "exception": false,
     "start_time": "2022-02-27T17:38:17.141079",
     "status": "completed"
    },
    "tags": []
   },
   "source": [
    "# Simple non regularized linear model on poly features-"
   ]
  },
  {
   "cell_type": "code",
   "execution_count": 26,
   "metadata": {
    "execution": {
     "iopub.execute_input": "2022-02-27T17:38:17.458212Z",
     "iopub.status.busy": "2022-02-27T17:38:17.457391Z",
     "iopub.status.idle": "2022-02-27T17:38:17.471239Z",
     "shell.execute_reply": "2022-02-27T17:38:17.472695Z",
     "shell.execute_reply.started": "2022-02-27T08:35:14.262151Z"
    },
    "papermill": {
     "duration": 0.166417,
     "end_time": "2022-02-27T17:38:17.472895",
     "exception": false,
     "start_time": "2022-02-27T17:38:17.306478",
     "status": "completed"
    },
    "tags": []
   },
   "outputs": [
    {
     "name": "stdout",
     "output_type": "stream",
     "text": [
      "[ 2.76250572e+13  7.27451322e-01 -1.39200215e+00 -1.77677191e+00\n",
      " -4.68903156e+00 -3.89906258e-01  2.90680427e+00  6.20842151e-01\n",
      "  1.69727016e-01 -1.78810611e-01  1.40501753e+00  7.12285551e-01\n",
      " -1.05870574e+00  2.99702020e-01  1.48224971e-01  8.61984176e-01\n",
      " -5.24657821e-01  3.00085759e+00  2.04143370e+00 -1.53573088e-01\n",
      " -9.54261900e-01 -1.51137932e+00  1.60778236e+00  5.77405395e-01\n",
      " -5.32841470e-01 -1.89857628e+00  5.00806874e-01  1.50533135e+00\n",
      "  1.10253666e+00]\n"
     ]
    }
   ],
   "source": [
    "regression_model.fit(X_train, y_train)\n",
    "print(regression_model.coef_[0])"
   ]
  },
  {
   "cell_type": "markdown",
   "metadata": {
    "papermill": {
     "duration": 0.10558,
     "end_time": "2022-02-27T17:38:17.732687",
     "exception": false,
     "start_time": "2022-02-27T17:38:17.627107",
     "status": "completed"
    },
    "tags": []
   },
   "source": [
    "**Here we can see large values for coefficients. Since dimensions are more with less number of data points this model is clearly indicates the overfit**"
   ]
  },
  {
   "cell_type": "markdown",
   "metadata": {
    "papermill": {
     "duration": 0.055878,
     "end_time": "2022-02-27T17:38:17.874356",
     "exception": false,
     "start_time": "2022-02-27T17:38:17.818478",
     "status": "completed"
    },
    "tags": []
   },
   "source": [
    "# Regularized Ridge Model"
   ]
  },
  {
   "cell_type": "code",
   "execution_count": 27,
   "metadata": {
    "execution": {
     "iopub.execute_input": "2022-02-27T17:38:17.964077Z",
     "iopub.status.busy": "2022-02-27T17:38:17.963208Z",
     "iopub.status.idle": "2022-02-27T17:38:17.968751Z",
     "shell.execute_reply": "2022-02-27T17:38:17.968278Z",
     "shell.execute_reply.started": "2022-02-27T08:35:26.475808Z"
    },
    "papermill": {
     "duration": 0.053581,
     "end_time": "2022-02-27T17:38:17.968880",
     "exception": false,
     "start_time": "2022-02-27T17:38:17.915299",
     "status": "completed"
    },
    "tags": []
   },
   "outputs": [
    {
     "name": "stdout",
     "output_type": "stream",
     "text": [
      "Ridge model: [[ 0.          0.64813084 -0.36554878 -2.46919357 -4.70667241 -0.63510083\n",
      "   2.8499319   0.96173248 -0.49248204 -0.57492325  1.37951065  1.0927984\n",
      "  -1.42036657  0.89110432 -0.16927823  1.35119104 -1.1349459   3.21038276\n",
      "   1.16514278  0.22836119 -0.89663938 -1.35284633  0.79573939  0.58576253\n",
      "  -0.61776911 -0.88637153  0.54014514  1.23036832  0.88256903]]\n"
     ]
    }
   ],
   "source": [
    "ridge = Ridge(alpha=.3)\n",
    "ridge.fit(X_train,y_train)\n",
    "print (\"Ridge model:\", (ridge.coef_))"
   ]
  },
  {
   "cell_type": "markdown",
   "metadata": {
    "papermill": {
     "duration": 0.041195,
     "end_time": "2022-02-27T17:38:18.051942",
     "exception": false,
     "start_time": "2022-02-27T17:38:18.010747",
     "status": "completed"
    },
    "tags": []
   },
   "source": [
    "**We can see coefficients are reduced. It will reduce close to zero but not exactly equal to zero. The 0 value shown up above is rounded up value**"
   ]
  },
  {
   "cell_type": "code",
   "execution_count": 28,
   "metadata": {
    "execution": {
     "iopub.execute_input": "2022-02-27T17:38:18.149558Z",
     "iopub.status.busy": "2022-02-27T17:38:18.148915Z",
     "iopub.status.idle": "2022-02-27T17:38:18.151968Z",
     "shell.execute_reply": "2022-02-27T17:38:18.152671Z",
     "shell.execute_reply.started": "2022-02-27T08:35:39.212309Z"
    },
    "papermill": {
     "duration": 0.057003,
     "end_time": "2022-02-27T17:38:18.152839",
     "exception": false,
     "start_time": "2022-02-27T17:38:18.095836",
     "status": "completed"
    },
    "tags": []
   },
   "outputs": [
    {
     "name": "stdout",
     "output_type": "stream",
     "text": [
      "0.8924614223751738\n",
      "0.8615025469455596\n"
     ]
    }
   ],
   "source": [
    "print(ridge.score(X_train, y_train))\n",
    "print(ridge.score(X_test, y_test))\n"
   ]
  },
  {
   "cell_type": "markdown",
   "metadata": {
    "papermill": {
     "duration": 0.041436,
     "end_time": "2022-02-27T17:38:18.237636",
     "exception": false,
     "start_time": "2022-02-27T17:38:18.196200",
     "status": "completed"
    },
    "tags": []
   },
   "source": [
    "# Regularized Lasso Model"
   ]
  },
  {
   "cell_type": "code",
   "execution_count": 29,
   "metadata": {
    "execution": {
     "iopub.execute_input": "2022-02-27T17:38:18.328550Z",
     "iopub.status.busy": "2022-02-27T17:38:18.327587Z",
     "iopub.status.idle": "2022-02-27T17:38:18.335799Z",
     "shell.execute_reply": "2022-02-27T17:38:18.335203Z",
     "shell.execute_reply.started": "2022-02-27T08:35:46.356806Z"
    },
    "papermill": {
     "duration": 0.056645,
     "end_time": "2022-02-27T17:38:18.335941",
     "exception": false,
     "start_time": "2022-02-27T17:38:18.279296",
     "status": "completed"
    },
    "tags": []
   },
   "outputs": [
    {
     "name": "stdout",
     "output_type": "stream",
     "text": [
      "Lasso model: [ 0.          0.2994648  -0.08787231 -2.43642026 -4.7023043  -0.41557099\n",
      "  2.82883219  0.79630585 -0.63845609 -0.19106524  1.35870323  0.71048483\n",
      " -0.95232354  0.80157019 -0.          1.30713909 -0.22245995  2.23244448\n",
      "  0.41856317  0.         -0.68238432 -1.20299711  0.33414503  0.06086321\n",
      " -0.38005578 -0.07856802  0.52335532  1.11608276  0.72523195]\n"
     ]
    }
   ],
   "source": [
    "lasso = Lasso(alpha=0.01)\n",
    "lasso.fit(X_train,y_train)\n",
    "print (\"Lasso model:\", (lasso.coef_))\n"
   ]
  },
  {
   "cell_type": "markdown",
   "metadata": {
    "papermill": {
     "duration": 0.041618,
     "end_time": "2022-02-27T17:38:18.420169",
     "exception": false,
     "start_time": "2022-02-27T17:38:18.378551",
     "status": "completed"
    },
    "tags": []
   },
   "source": [
    "**Lasso making many coeficients to zero. As mentioned above these are not used for model building**"
   ]
  },
  {
   "cell_type": "code",
   "execution_count": 30,
   "metadata": {
    "execution": {
     "iopub.execute_input": "2022-02-27T17:38:18.513987Z",
     "iopub.status.busy": "2022-02-27T17:38:18.513102Z",
     "iopub.status.idle": "2022-02-27T17:38:18.517035Z",
     "shell.execute_reply": "2022-02-27T17:38:18.517641Z",
     "shell.execute_reply.started": "2022-02-27T08:35:57.799675Z"
    },
    "papermill": {
     "duration": 0.055199,
     "end_time": "2022-02-27T17:38:18.517795",
     "exception": false,
     "start_time": "2022-02-27T17:38:18.462596",
     "status": "completed"
    },
    "tags": []
   },
   "outputs": [
    {
     "name": "stdout",
     "output_type": "stream",
     "text": [
      "0.8910435407965047\n",
      "0.8679233223131171\n"
     ]
    }
   ],
   "source": [
    "print(lasso.score(X_train, y_train))\n",
    "print(lasso.score(X_test, y_test))\n"
   ]
  },
  {
   "cell_type": "markdown",
   "metadata": {
    "papermill": {
     "duration": 0.045661,
     "end_time": "2022-02-27T17:38:18.606944",
     "exception": false,
     "start_time": "2022-02-27T17:38:18.561283",
     "status": "completed"
    },
    "tags": []
   },
   "source": [
    "**Lasso is getting 86% accuracy with nearly half the number of dimensions.**\n",
    "\n",
    "**Lasso is also used for feature selection and dimensionality reduction technique**"
   ]
  },
  {
   "cell_type": "markdown",
   "metadata": {
    "papermill": {
     "duration": 0.046727,
     "end_time": "2022-02-27T17:38:18.699898",
     "exception": false,
     "start_time": "2022-02-27T17:38:18.653171",
     "status": "completed"
    },
    "tags": []
   },
   "source": [
    "# We have seen Lasso and Ridge regression implementation and also compared the accuracy with simple Linear model. Please do upvote if this notebook is useful for you. Thanks in advance :)"
   ]
  }
 ],
 "metadata": {
  "kernelspec": {
   "display_name": "Python 3",
   "language": "python",
   "name": "python3"
  },
  "language_info": {
   "codemirror_mode": {
    "name": "ipython",
    "version": 3
   },
   "file_extension": ".py",
   "mimetype": "text/x-python",
   "name": "python",
   "nbconvert_exporter": "python",
   "pygments_lexer": "ipython3",
   "version": "3.7.6"
  },
  "papermill": {
   "duration": 11.971908,
   "end_time": "2022-02-27T17:38:18.855073",
   "environment_variables": {},
   "exception": null,
   "input_path": "__notebook__.ipynb",
   "output_path": "__notebook__.ipynb",
   "parameters": {},
   "start_time": "2022-02-27T17:38:06.883165",
   "version": "2.1.0"
  }
 },
 "nbformat": 4,
 "nbformat_minor": 4
}
